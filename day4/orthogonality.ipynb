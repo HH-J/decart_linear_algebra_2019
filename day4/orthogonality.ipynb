{
 "cells": [
  {
   "cell_type": "code",
   "execution_count": 1,
   "metadata": {},
   "outputs": [],
   "source": [
    "%matplotlib inline"
   ]
  },
  {
   "cell_type": "markdown",
   "metadata": {},
   "source": [
    "# Basis Vectors and Orthogonality\n",
    "\n",
    "If the idea of a basis is one of the foundations of linear algebra, then the specialization to an orthogonal basis is not far behind. We need a basis to convert geometric constructions into algebraic calculations, and we need an orthogonal basis to make those calculations simple. There is even a further specialization, which makes the basis just about optimal: The vectors should have length one. That can be achieved, but to do it we have to know\n",
    "\n",
    "1. the length of a vector\n",
    "2. the test for perpendicular vectors\n",
    "3. how to create perpendicular vectors from linearly independent vectors.\n",
    "\n",
    "Gilbert Strang Linear Algebra\n",
    "\n",
    "We have previously addressed two of three features\n",
    "\n",
    "The length of a vector is the norm.\n",
    "The test for perpendicularity is done with the inner product.\n",
    "\n",
    "## Example of basis vectors\n",
    "\n",
    "The idea of basis vectors for a vector space is the following: Can linear combinations of a set of vectors be used to reach every point in the vector space?\n",
    "\n",
    "To explore this, we will consider the two-dimension ($\\Re^2$) space of the x-y plane. A pair of basis vectors for this space is \n",
    "\n",
    "\\begin{eqnarray}\n",
    "e_1 = \\begin{bmatrix}\n",
    "\\begin{array}{r{\\quad}1}\n",
    "1 \\\\ 0\n",
    "\\end{array}\n",
    "\\end{bmatrix}, e_2 = \\begin{bmatrix}\n",
    "\\begin{array}{r{\\quad}1}\n",
    "0 \\\\ 1\n",
    "\\end{array}\n",
    "\\end{bmatrix}\n",
    "\\end{eqnarray}\n",
    "\n",
    "These vectors are drawn below. These vectors happen to be **unit vectors** (norm/length of 1) and orthogonal ($\\mathbf{e_2}^T \\mathbf{e_1}=0$)."
   ]
  },
  {
   "cell_type": "code",
   "execution_count": 2,
   "metadata": {},
   "outputs": [],
   "source": [
    "import matplotlib.pyplot as plt\n",
    "import numpy as np"
   ]
  },
  {
   "cell_type": "code",
   "execution_count": 3,
   "metadata": {},
   "outputs": [],
   "source": [
    "from utils import *"
   ]
  },
  {
   "cell_type": "code",
   "execution_count": 4,
   "metadata": {},
   "outputs": [
    {
     "data": {
      "image/png": "[encoded data removed]",
      "text/plain": [
       "<Figure size 432x288 with 1 Axes>"
      ]
     },
     "metadata": {},
     "output_type": "display_data"
    }
   ],
   "source": [
    "draw_vectors((1,0, \"red\"),(0,1, \"green\"))"
   ]
  },
  {
   "cell_type": "markdown",
   "metadata": {},
   "source": [
    "You can get to anywhere in the plane by some combination of $\\mathbf{e_1}$ and $\\mathbf{e_2}$, something we probably explored in elementary school. \n",
    "\n",
    "For example, I an get to the point $(15,-3)$ with \n",
    "\n",
    "\\begin{equation}\n",
    "15\\times \\mathbf{e_1} + -3 \\times \\mathbf{e_2}\n",
    "\\end{equation}\n",
    "\n",
    "Our basis functions do not need to be unit vectors. For example, we could have the following basis vectors:\n",
    "\n",
    "\\begin{eqnarray}\n",
    "e_3 = \\begin{bmatrix}\n",
    "\\begin{array}{r{\\quad}1}\n",
    "7 \\\\ 0\n",
    "\\end{array}\n",
    "\\end{bmatrix}, e_4 = \\begin{bmatrix}\n",
    "\\begin{array}{r{\\quad}1}\n",
    "0 \\\\ -2\n",
    "\\end{array}\n",
    "\\end{bmatrix}\n",
    "\\end{eqnarray}"
   ]
  },
  {
   "cell_type": "code",
   "execution_count": 5,
   "metadata": {},
   "outputs": [
    {
     "data": {
      "image/png": "[encoded data removed]",
      "text/plain": [
       "<Figure size 432x288 with 1 Axes>"
      ]
     },
     "metadata": {},
     "output_type": "display_data"
    }
   ],
   "source": [
    "draw_vectors((7,0, \"red\"),(0,-2, \"green\"))"
   ]
  },
  {
   "cell_type": "markdown",
   "metadata": {},
   "source": [
    "Our arithmetic might get a little more complex, but we can still use $\\mathbf{e_3}$ and $\\mathbf{e_4}$ to get anywhere in the plane. For example to get to get our point $(15,-3)$ we would do the following\n",
    "\n",
    "\\begin{equation}\n",
    "\\frac{15}{7}\\times \\mathbf{e_1} + \\frac{3}{2} \\times \\mathbf{e_2}\n",
    "\\end{equation}"
   ]
  },
  {
   "cell_type": "code",
   "execution_count": 6,
   "metadata": {},
   "outputs": [],
   "source": [
    "e_3 = np.matrix([[7],[0]])\n",
    "e_4 = np.matrix([[0],[-2]])"
   ]
  },
  {
   "cell_type": "code",
   "execution_count": null,
   "metadata": {},
   "outputs": [],
   "source": [
    "isinstance([1,3],(np.ndarray, list, tuple))"
   ]
  },
  {
   "cell_type": "code",
   "execution_count": 11,
   "metadata": {},
   "outputs": [
    {
     "data": {
      "image/png": "[encoded data removed]",
      "text/plain": [
       "<Figure size 432x288 with 1 Axes>"
      ]
     },
     "metadata": {},
     "output_type": "display_data"
    }
   ],
   "source": [
    "\n",
    "draw_vectors((e_3, \"red\"),\n",
    "             (e_4, \"red\"), \n",
    "             ((15/7)*e_3,(0,1,0,0.5)), \n",
    "             ((3/2)*e_4, (0,1,0,0.5)),\n",
    "             ((15/7)*e_3 + (3/2)*e_4,\"blue\"))"
   ]
  },
  {
   "cell_type": "code",
   "execution_count": null,
   "metadata": {},
   "outputs": [],
   "source": [
    "v3 = np.array([1.0,0.2])\n",
    "v3 = v3/la.norm(v3)\n",
    "v3\n",
    "def unit_vectors(*v):\n",
    "    vs = [np.array(vv)/la.norm(vv) for vv in v]\n",
    "    return vs"
   ]
  },
  {
   "cell_type": "code",
   "execution_count": null,
   "metadata": {},
   "outputs": [],
   "source": [
    "draw_vectors((1,0, \"red\"),(0,1, \"red\"))"
   ]
  },
  {
   "cell_type": "code",
   "execution_count": null,
   "metadata": {},
   "outputs": [],
   "source": [
    "(*(zip([\"red\",\"green\"],unit_vectors((1.01,0.0),(1.01,0.2)))),1)"
   ]
  },
  {
   "cell_type": "code",
   "execution_count": null,
   "metadata": {},
   "outputs": [],
   "source": [
    "draw_vectors(*(zip(unit_vectors((5,0.0),(5.0,0.2)),(\"red\",\"green\"))))"
   ]
  },
  {
   "cell_type": "code",
   "execution_count": null,
   "metadata": {},
   "outputs": [],
   "source": [
    "unit_vectors((1.01,0.0),(1.01,0.02))"
   ]
  },
  {
   "cell_type": "code",
   "execution_count": null,
   "metadata": {},
   "outputs": [],
   "source": [
    "(*e_3,\"red\")"
   ]
  },
  {
   "cell_type": "code",
   "execution_count": null,
   "metadata": {},
   "outputs": [],
   "source": [
    "(*zip(unit_vectors((5,0.0),(5.0,0.2)),(\"red\",\"green\")),1)"
   ]
  },
  {
   "cell_type": "markdown",
   "metadata": {},
   "source": [
    "## Gram-Schmidt Orthogonalization\n",
    "\n",
    "Orthonormal matrices are nice. They...\n",
    "\n",
    "Gram-Schmidt is a simple algorithm for taking a non-orthonormal matrix ($A$) consisting of linear independent columns and creates an orthonormal version of the matrix ($Q$). The algorithm can be described as follows. Assume that we have an Array $A$ consisting of columns $\\mathbf{a_i}$.\n",
    "\n",
    "\\begin{equation}\n",
    "A=\\begin{bmatrix}\n",
    "\\begin{array}{cccc{\\qquad}1}\n",
    "\\mathbf{a_1} & \\mathbf{a_2} & \\cdots & \\mathbf{a_n}\n",
    "\\end{array}\n",
    "\\end{bmatrix}\n",
    "\\end{equation}\n",
    "\n",
    "\n",
    "1. Pick a column (vector); anyone will do so we might as well pick $\\mathbf{a_{i=0}}$.\n",
    "1. Create a unit vector version of $\\mathbf{a_i}$ ($\\mathbf{q_i}$) by dividing $\\mathbf{a_i}$ by its norm ($\\frac{\\mathbf{a_i}}{||\\mathbf{a_i}||}$)\n",
    "2. Subtract $\\mathbf{q_i}$ from all subsequent vectors $\\mathbf{q_{j>i}}$\n",
    "\\begin{equation}\n",
    "\\mathbf{a_{j_i}^\\prime} = \\mathbf{a_j} - (\\mathbf{q_i}^T \\mathbf{a_j}) \\mathbf{q_i}\n",
    "\\end{equation}\n",
    "3. Increment $i$ and repeat.\n",
    "\n",
    "\n",
    "\n",
    "Thus for any column $j$ we subtract the projection of all columns $i$ ($i < j$), the final process can be expressed as\n",
    "\n",
    "\\begin{eqnarray}\n",
    "\\mathbf{a_j^\\prime} = \\mathbf{a_j} - \\sum_{i=1}^{j-1}(\\mathbf{q_i}^T \\mathbf{a_j}) \\mathbf{q_i}\\\\\n",
    "\\mathbf{q_j} = \\frac{\\mathbf{a_j^\\prime}}{||\\mathbf{a_j^\\prime}||}\n",
    "\\end{eqnarray}\n",
    "    "
   ]
  },
  {
   "cell_type": "code",
   "execution_count": 16,
   "metadata": {},
   "outputs": [
    {
     "data": {
      "text/plain": [
       "0.0"
      ]
     },
     "execution_count": 16,
     "metadata": {},
     "output_type": "execute_result"
    }
   ],
   "source": [
    "float(e_3.transpose()*e_4)"
   ]
  },
  {
   "cell_type": "code",
   "execution_count": 13,
   "metadata": {},
   "outputs": [
    {
     "data": {
      "text/plain": [
       "7.0"
      ]
     },
     "execution_count": 13,
     "metadata": {},
     "output_type": "execute_result"
    }
   ],
   "source": [
    "la.norm(e_3)"
   ]
  },
  {
   "cell_type": "code",
   "execution_count": 14,
   "metadata": {},
   "outputs": [],
   "source": [
    "q_3 = e_3/la.norm(e_3)"
   ]
  },
  {
   "cell_type": "code",
   "execution_count": 23,
   "metadata": {},
   "outputs": [
    {
     "data": {
      "text/plain": [
       "matrix([[ 0.],\n",
       "        [-2.]])"
      ]
     },
     "execution_count": 23,
     "metadata": {},
     "output_type": "execute_result"
    }
   ],
   "source": [
    "e_4 - float((q_3.transpose()*e_4))*q_3"
   ]
  },
  {
   "cell_type": "code",
   "execution_count": 17,
   "metadata": {},
   "outputs": [
    {
     "data": {
      "text/plain": [
       "matrix([[ 0., -2.],\n",
       "        [ 0., -0.]])"
      ]
     },
     "execution_count": 17,
     "metadata": {},
     "output_type": "execute_result"
    }
   ],
   "source": [
    "np.inner(q_3,e_4)"
   ]
  },
  {
   "cell_type": "code",
   "execution_count": 24,
   "metadata": {},
   "outputs": [
    {
     "data": {
      "text/plain": [
       "matrix([[0.]])"
      ]
     },
     "execution_count": 24,
     "metadata": {},
     "output_type": "execute_result"
    }
   ],
   "source": [
    "np.dot(q_3.transpose(),e_4)"
   ]
  },
  {
   "cell_type": "code",
   "execution_count": 25,
   "metadata": {},
   "outputs": [
    {
     "data": {
      "text/plain": [
       "matrix([[0.]])"
      ]
     },
     "execution_count": 25,
     "metadata": {},
     "output_type": "execute_result"
    }
   ],
   "source": [
    "q_3.transpose()*e_4"
   ]
  },
  {
   "cell_type": "code",
   "execution_count": 27,
   "metadata": {},
   "outputs": [],
   "source": [
    "c = np.matrix([[1,3,2],[3,1,0],[-1,0,5]])"
   ]
  },
  {
   "cell_type": "code",
   "execution_count": 32,
   "metadata": {},
   "outputs": [
    {
     "ename": "ValueError",
     "evalue": "shapes (3,1) and (3,1) not aligned: 1 (dim 1) != 3 (dim 0)",
     "output_type": "error",
     "traceback": [
      "\u001b[0;31m---------------------------------------------------------------------------\u001b[0m",
      "\u001b[0;31mValueError\u001b[0m                                Traceback (most recent call last)",
      "\u001b[0;32m<ipython-input-32-4e705d715711>\u001b[0m in \u001b[0;36m<module>\u001b[0;34m()\u001b[0m\n\u001b[0;32m----> 1\u001b[0;31m \u001b[0mnp\u001b[0m\u001b[0;34m.\u001b[0m\u001b[0minner\u001b[0m\u001b[0;34m(\u001b[0m\u001b[0mc\u001b[0m\u001b[0;34m[\u001b[0m\u001b[0;34m:\u001b[0m\u001b[0;34m,\u001b[0m\u001b[0;36m0\u001b[0m\u001b[0;34m]\u001b[0m\u001b[0;34m,\u001b[0m\u001b[0mc\u001b[0m\u001b[0;34m[\u001b[0m\u001b[0;36m1\u001b[0m\u001b[0;34m,\u001b[0m\u001b[0;34m:\u001b[0m\u001b[0;34m]\u001b[0m\u001b[0;34m)\u001b[0m\u001b[0;34m\u001b[0m\u001b[0m\n\u001b[0m",
      "\u001b[0;31mValueError\u001b[0m: shapes (3,1) and (3,1) not aligned: 1 (dim 1) != 3 (dim 0)"
     ]
    }
   ],
   "source": [
    "np.inner(c[:,0],c[1,:])"
   ]
  },
  {
   "cell_type": "code",
   "execution_count": 31,
   "metadata": {},
   "outputs": [],
   "source": [
    "def unit_vector(v):\n",
    "    return v/la.norm(v)"
   ]
  },
  {
   "cell_type": "code",
   "execution_count": 46,
   "metadata": {},
   "outputs": [],
   "source": [
    "def subtract_projection(a,q):\n",
    "    \"\"\"\n",
    "    subtract projection of a onto q from a\n",
    "    \"\"\"\n",
    "    return a - float(q.transpose()*a)*q"
   ]
  },
  {
   "cell_type": "code",
   "execution_count": 47,
   "metadata": {},
   "outputs": [],
   "source": [
    "def gram_schmidt(A):\n",
    "    Q = A.copy().astype(np.float64)\n",
    "    n = A.shape[1]\n",
    "    for i in range(A.shape[1]):\n",
    "        q = Q[:,i]\n",
    "        q = unit_vector(q)\n",
    "        Q[:,i] = q\n",
    "        for j in range(i+1,n):\n",
    "            Q[:,j] = subtract_projection(Q[:,j],q)\n",
    "    return Q"
   ]
  },
  {
   "cell_type": "code",
   "execution_count": 49,
   "metadata": {},
   "outputs": [],
   "source": [
    "c1 = gram_schmidt(c)"
   ]
  },
  {
   "cell_type": "code",
   "execution_count": 52,
   "metadata": {},
   "outputs": [
    {
     "data": {
      "text/plain": [
       "1.0"
      ]
     },
     "execution_count": 52,
     "metadata": {},
     "output_type": "execute_result"
    }
   ],
   "source": [
    "la.norm(c1[:,2])"
   ]
  },
  {
   "cell_type": "markdown",
   "metadata": {},
   "source": [
    "## How would we test our functions?"
   ]
  },
  {
   "cell_type": "code",
   "execution_count": 53,
   "metadata": {},
   "outputs": [],
   "source": [
    "def vinner(v1,v2):\n",
    "    return float(v1.transpose()*v2)"
   ]
  },
  {
   "cell_type": "code",
   "execution_count": 57,
   "metadata": {},
   "outputs": [
    {
     "data": {
      "text/plain": [
       "5.551115123125783e-17"
      ]
     },
     "execution_count": 57,
     "metadata": {},
     "output_type": "execute_result"
    }
   ],
   "source": [
    "vinner(c1[:,0],c1[:,2])"
   ]
  },
  {
   "cell_type": "code",
   "execution_count": 59,
   "metadata": {},
   "outputs": [],
   "source": [
    "ctc = c1.transpose()*c1"
   ]
  },
  {
   "cell_type": "code",
   "execution_count": 60,
   "metadata": {},
   "outputs": [
    {
     "data": {
      "text/plain": [
       "3.0"
      ]
     },
     "execution_count": 60,
     "metadata": {},
     "output_type": "execute_result"
    }
   ],
   "source": [
    "np.trace(ctc)"
   ]
  },
  {
   "cell_type": "markdown",
   "metadata": {},
   "source": [
    "## QR Factorization\n",
    "\n",
    "What is the relationship between $A$ and $Q$? In other words, what matrix $R$ do we need such that \n",
    "\\begin{equation}\n",
    "A = QR?\n",
    "\\end{equation}\n",
    "\n",
    "\n",
    "Any vector can be expressed as a weighted sum of basis vectors:\n",
    "\n",
    "\\begin{equation}\n",
    "\\mathbf{b} = x_1\\mathbf{q_1}+x_2\\mathbf{q_2}+\\cdots+x_n\\mathbf{q_n}\n",
    "\\end{equation}\n",
    "\n",
    "How do we compute $x_i$?\n",
    "If the basis functions are orthonormal (as we've created in $Q$) and we multiply both sides by $\\mathbf{q_i}^T$ we get\n",
    "\n",
    "\n",
    "\\begin{equation}\n",
    "\\mathbf{q_i}^T\\mathbf{b} = \\mathbf{q_i}^Tx_1\\mathbf{q_1}+\\mathbf{q_i}^Tx_2\\mathbf{q_2}+\\cdots+\\mathbf{q_i}^Tx_n\\mathbf{q_n}\n",
    "\\end{equation}\n",
    "\n",
    "\n",
    "But since $Q$ is orthonormal \n",
    "\n",
    "\\begin{equation}\n",
    "  \\mathbf{q_i}^T\\mathbf{q_j} =\n",
    "  \\begin{cases}\n",
    "    1 & \\text{if $i = j$} \\\\\n",
    "    0 & \\text{otherwise}\n",
    "  \\end{cases}\n",
    "\\end{equation}\n",
    "\n",
    "\\begin{equation}\n",
    "\\mathbf{q_i}^T\\mathbf{b} = x_i\n",
    "\\end{equation}\n",
    "\n",
    "So any vector $\\mathbf{b}$ can be expressed as\n",
    "\n",
    "\\begin{equation}\n",
    "\\mathbf{b} = (\\mathbf{q_1}^T\\mathbf{b})\\mathbf{q_1}+(\\mathbf{q_2}^T\\mathbf{b})\\mathbf{q_2}+\\cdots+(\\mathbf{q_n}^T\\mathbf{b})\\mathbf{q_n}\n",
    "\\end{equation}\n",
    "\n",
    "Based on this we can reconstruct the columns of $A$ from $Q$ by\n",
    "\n",
    "\\begin{equation}\n",
    "\\mathbf{a_i} = \\sum_{j=1}^{j < i}\\mathbf{q_j}^T\\mathbf{a_i}\n",
    "\\end{equation}\n",
    "\n",
    "What does this look like in matrix form? It is multiplication of $Q$ by an upper right triangular matrix $R$\n",
    "\n",
    "\\begin{equation}\n",
    "A=QR = \\begin{bmatrix}\n",
    "\\begin{array}{cccc{\\qquad}1}\n",
    "\\mathbf{q_1} & \\mathbf{q_2} & \\cdots & \\mathbf{q_n}\n",
    "\\end{array}\n",
    "\\end{bmatrix}\n",
    "\\begin{bmatrix}\n",
    "\\begin{array}{cccc{\\qquad}1}\n",
    "\\mathbf{q_1}^T\\mathbf{a_1} & \\mathbf{q_1}^T\\mathbf{a_2} & \\cdots & \\mathbf{q_1}^T\\mathbf{a_n}\\\\\n",
    "0 & \\mathbf{q_2}^T\\mathbf{a_2} & \\cdots & \\mathbf{q_2}^T\\mathbf{a_n}\\\\\n",
    "\\vdots& \\vdots & \\vdots & \\vdots \\\\\n",
    "0 & 0 & 0 & \\mathbf{q_n}^T\\mathbf{a_n}\n",
    "\\end{array}\n",
    "\\end{bmatrix}\n",
    "\\end{equation}"
   ]
  },
  {
   "cell_type": "markdown",
   "metadata": {},
   "source": []
  },
  {
   "cell_type": "code",
   "execution_count": null,
   "metadata": {},
   "outputs": [],
   "source": []
  }
 ],
 "metadata": {
  "kernelspec": {
   "display_name": "Python 3",
   "language": "python",
   "name": "python3"
  },
  "language_info": {
   "codemirror_mode": {
    "name": "ipython",
    "version": 3
   },
   "file_extension": ".py",
   "mimetype": "text/x-python",
   "name": "python",
   "nbconvert_exporter": "python",
   "pygments_lexer": "ipython3",
   "version": "3.7.2"
  },
  "latex_envs": {
   "LaTeX_envs_menu_present": true,
   "autoclose": false,
   "autocomplete": true,
   "bibliofile": "biblio.bib",
   "cite_by": "apalike",
   "current_citInitial": 1,
   "eqLabelWithNumbers": true,
   "eqNumInitial": 1,
   "hotkeys": {
    "equation": "Ctrl-E",
    "itemize": "Ctrl-I"
   },
   "labels_anchors": false,
   "latex_user_defs": false,
   "report_style_numbering": false,
   "user_envs_cfg": false
  }
 },
 "nbformat": 4,
 "nbformat_minor": 2
}
