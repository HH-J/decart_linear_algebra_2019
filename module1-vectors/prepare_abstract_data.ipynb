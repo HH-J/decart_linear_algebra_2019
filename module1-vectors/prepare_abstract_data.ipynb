{
 "cells": [
  {
   "cell_type": "code",
   "execution_count": 11,
   "metadata": {},
   "outputs": [],
   "source": [
    "import gzip\n",
    "import json\n",
    "import pandas as pd"
   ]
  },
  {
   "cell_type": "code",
   "execution_count": 4,
   "metadata": {},
   "outputs": [],
   "source": [
    "import gzip\n",
    "with gzip.open(\"../journal_details3.json.gz\",'rt', encoding=\"ascii\") as f0:\n",
    "    journal_result_details3 = json.load(f0)"
   ]
  },
  {
   "cell_type": "code",
   "execution_count": null,
   "metadata": {},
   "outputs": [],
   "source": [
    "tmp0[0][\"MedlineCitation\"][\"PMID\"]"
   ]
  },
  {
   "cell_type": "code",
   "execution_count": null,
   "metadata": {},
   "outputs": [],
   "source": [
    "yearly_abstracts = defaultdict(list)\n",
    "\n",
    "failures = defaultdict(list)\n",
    "for t in tmp:\n",
    "    try:\n",
    "        yearly_abstracts[t[\"PubmedData\"][\"History\"][2][\"Year\"]].append(t[\"MedlineCitation\"][\"Article\"][\"Abstract\"][\"AbstractText\"])\n",
    "    except Exception as error:\n",
    "        #print(error)\n",
    "        failures.append(error)"
   ]
  },
  {
   "cell_type": "code",
   "execution_count": 14,
   "metadata": {},
   "outputs": [],
   "source": [
    "documents = []\n",
    "\n",
    "for j,tmp in journal_result_details3.items():\n",
    "    for t in tmp:\n",
    "            try:\n",
    "                abstract = t[\"MedlineCitation\"][\"Article\"][\"Abstract\"][\"AbstractText\"][0]\n",
    "                title = t[\"MedlineCitation\"][\"Article\"]['ArticleTitle']\n",
    "                pmid = t[\"MedlineCitation\"][\"PMID\"]\n",
    "                documents.append({\"pmid\":pmid, \"title\":title, \"abstract\":abstract})\n",
    "            except KeyError as error:\n",
    "                pass\n",
    "            "
   ]
  },
  {
   "cell_type": "code",
   "execution_count": 16,
   "metadata": {},
   "outputs": [
    {
     "data": {
      "text/html": [
       "<div>\n",
       "<style scoped>\n",
       "    .dataframe tbody tr th:only-of-type {\n",
       "        vertical-align: middle;\n",
       "    }\n",
       "\n",
       "    .dataframe tbody tr th {\n",
       "        vertical-align: top;\n",
       "    }\n",
       "\n",
       "    .dataframe thead th {\n",
       "        text-align: right;\n",
       "    }\n",
       "</style>\n",
       "<table border=\"1\" class=\"dataframe\">\n",
       "  <thead>\n",
       "    <tr style=\"text-align: right;\">\n",
       "      <th></th>\n",
       "      <th>abstract</th>\n",
       "      <th>pmid</th>\n",
       "      <th>title</th>\n",
       "    </tr>\n",
       "  </thead>\n",
       "  <tbody>\n",
       "    <tr>\n",
       "      <th>0</th>\n",
       "      <td>This accompanying editorial provides a brief i...</td>\n",
       "      <td>30677782</td>\n",
       "      <td>Machine Learning and Data Analytics in Pervasi...</td>\n",
       "    </tr>\n",
       "    <tr>\n",
       "      <th>1</th>\n",
       "      <td>Pharmacogenomics (PGx) is often considered a l...</td>\n",
       "      <td>30605914</td>\n",
       "      <td>A Pharmacogenomics Clinical Decision Support S...</td>\n",
       "    </tr>\n",
       "    <tr>\n",
       "      <th>2</th>\n",
       "      <td>Patient-reported outcomes (PROs) are informati...</td>\n",
       "      <td>30453339</td>\n",
       "      <td>Electronic Collection of Multilingual Patient-...</td>\n",
       "    </tr>\n",
       "    <tr>\n",
       "      <th>3</th>\n",
       "      <td>Smoking is an established risk factor for ora...</td>\n",
       "      <td>30453338</td>\n",
       "      <td>Leveraging Electronic Dental Record Data to Cl...</td>\n",
       "    </tr>\n",
       "    <tr>\n",
       "      <th>4</th>\n",
       "      <td>Electronic health record (EHR) systems contai...</td>\n",
       "      <td>30453337</td>\n",
       "      <td>Linking Electronic Health Record and Trauma Re...</td>\n",
       "    </tr>\n",
       "  </tbody>\n",
       "</table>\n",
       "</div>"
      ],
      "text/plain": [
       "                                            abstract      pmid  \\\n",
       "0  This accompanying editorial provides a brief i...  30677782   \n",
       "1  Pharmacogenomics (PGx) is often considered a l...  30605914   \n",
       "2  Patient-reported outcomes (PROs) are informati...  30453339   \n",
       "3   Smoking is an established risk factor for ora...  30453338   \n",
       "4   Electronic health record (EHR) systems contai...  30453337   \n",
       "\n",
       "                                               title  \n",
       "0  Machine Learning and Data Analytics in Pervasi...  \n",
       "1  A Pharmacogenomics Clinical Decision Support S...  \n",
       "2  Electronic Collection of Multilingual Patient-...  \n",
       "3  Leveraging Electronic Dental Record Data to Cl...  \n",
       "4  Linking Electronic Health Record and Trauma Re...  "
      ]
     },
     "execution_count": 16,
     "metadata": {},
     "output_type": "execute_result"
    }
   ],
   "source": [
    "data = pd.DataFrame([d for d in documents if d[\"abstract\"]])\n",
    "data.head()"
   ]
  },
  {
   "cell_type": "code",
   "execution_count": 13,
   "metadata": {},
   "outputs": [
    {
     "data": {
      "text/plain": [
       "[\"The mortality attributed to asthma has increased annually in England and Wales from 1960 to 1965. The increase is more pronounced at ages 5 to 34 years than at older ages and is most pronounced at ages 10 to 14 years. In this last age group the mortality increased nearly eight times in seven years, and in 1966 asthma accounted for 7% of all deaths. No comparable increase has been observed in any other country, but smaller increases at ages 10 to 19 years have been observed in Australasia, Japan, western Europe, and the United States. There is no evidence to suggest that there has been any change in diagnostic habits, certification of deaths, or methods of classification which could account for the increase in Great Britain, and it is concluded that the increase is real. General practitioners' records provide no evidence of an increase in prevalence and it seems probable that there has been an increase in case fatality. No environmental hazards are known which could have increased the severity of the disease, and the possibility has to be considered that the increase may be due to new methods of treatment. Corticosteroids have been used increasingly since 1952, and in Great Britain the use of pressurized aerosols containing sympathomimetics has increased rapidly since 1960.\"]"
      ]
     },
     "execution_count": 13,
     "metadata": {},
     "output_type": "execute_result"
    }
   ],
   "source": [
    "abstract"
   ]
  },
  {
   "cell_type": "code",
   "execution_count": 17,
   "metadata": {},
   "outputs": [],
   "source": [
    "with gzip.open(\"../data/documents.json.gz\", \"wt\") as f0:\n",
    "    json.dump(data.to_json(),f0)"
   ]
  },
  {
   "cell_type": "code",
   "execution_count": 19,
   "metadata": {},
   "outputs": [],
   "source": [
    "with gzip.open(\"../data/documents.json.gz\", \"rt\") as f0:\n",
    "    data2 = pd.read_json(json.load(f0))"
   ]
  },
  {
   "cell_type": "code",
   "execution_count": null,
   "metadata": {},
   "outputs": [],
   "source": []
  }
 ],
 "metadata": {
  "@webio": {
   "lastCommId": null,
   "lastKernelId": null
  },
  "kernelspec": {
   "display_name": "Python 3",
   "language": "python",
   "name": "python3"
  },
  "language_info": {
   "codemirror_mode": {
    "name": "ipython",
    "version": 3
   },
   "file_extension": ".py",
   "mimetype": "text/x-python",
   "name": "python",
   "nbconvert_exporter": "python",
   "pygments_lexer": "ipython3",
   "version": "3.7.2"
  },
  "latex_envs": {
   "LaTeX_envs_menu_present": true,
   "autoclose": false,
   "autocomplete": true,
   "bibliofile": "biblio.bib",
   "cite_by": "apalike",
   "current_citInitial": 1,
   "eqLabelWithNumbers": true,
   "eqNumInitial": 1,
   "hotkeys": {
    "equation": "Ctrl-E",
    "itemize": "Ctrl-I"
   },
   "labels_anchors": false,
   "latex_user_defs": false,
   "report_style_numbering": false,
   "user_envs_cfg": false
  }
 },
 "nbformat": 4,
 "nbformat_minor": 2
}
