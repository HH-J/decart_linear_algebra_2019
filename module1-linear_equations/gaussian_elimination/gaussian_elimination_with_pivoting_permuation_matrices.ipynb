{
 "cells": [
  {
   "cell_type": "code",
   "execution_count": 3,
   "metadata": {},
   "outputs": [],
   "source": [
    "import numpy as np\n",
    "import numpy.linalg as la"
   ]
  },
  {
   "cell_type": "markdown",
   "metadata": {},
   "source": [
    "## Key debugging points\n",
    "\n",
    "* How is the arthimetic for these arrays being computed?\n",
    "    * Array casting\n",
    "    * dtype, astype\n",
    "* Copying values/reference"
   ]
  },
  {
   "cell_type": "code",
   "execution_count": 4,
   "metadata": {},
   "outputs": [],
   "source": [
    "def find_pivot(c):\n",
    "    print(c.shape)\n",
    "    m = c.shape[0]\n",
    "    maxv = c[0]\n",
    "    argmax = 0\n",
    "    for i in range(1,m):\n",
    "        print(c[i])\n",
    "        if c[i] > maxv:\n",
    "            maxv = c[i]\n",
    "            argmax = i\n",
    "        print(\"i=%d\"%i)\n",
    "        print(\"argmax=%f\"%argmax)\n",
    "    return argmax"
   ]
  },
  {
   "cell_type": "code",
   "execution_count": 5,
   "metadata": {},
   "outputs": [],
   "source": [
    "def find_pivot2(c):\n",
    "    return np.argmax(c)"
   ]
  },
  {
   "cell_type": "code",
   "execution_count": 7,
   "metadata": {},
   "outputs": [
    {
     "data": {
      "text/plain": [
       "matrix([[1, 2, 1],\n",
       "        [3, 8, 1],\n",
       "        [0, 4, 1]])"
      ]
     },
     "execution_count": 7,
     "metadata": {},
     "output_type": "execute_result"
    }
   ],
   "source": [
    "A = np.matrix([[1,2,1],[3,8,1],[0,4,1]])\n",
    "A"
   ]
  },
  {
   "cell_type": "code",
   "execution_count": 8,
   "metadata": {},
   "outputs": [
    {
     "data": {
      "text/plain": [
       "matrix([[ 2],\n",
       "        [12],\n",
       "        [ 2]])"
      ]
     },
     "execution_count": 8,
     "metadata": {},
     "output_type": "execute_result"
    }
   ],
   "source": [
    "b = np.matrix([2,12,2]).transpose()\n",
    "b"
   ]
  },
  {
   "cell_type": "code",
   "execution_count": 9,
   "metadata": {},
   "outputs": [],
   "source": [
    "def pivot_rows(a,b,k):\n",
    "    # find pivot\n",
    "    pr = find_pivot2(a[k:,k]) + k\n",
    "    p = np.matrix(np.identity(a.shape[0], dtype=np.float64))\n",
    "    p[pr,pr] = 0.0\n",
    "    p[k,k] = 0.0\n",
    "    p[k,pr] = 1\n",
    "    p[pr,k] = 1\n",
    "    A = p*a\n",
    "    b = p*b\n",
    "    print(A)\n",
    "    return A,b"
   ]
  },
  {
   "cell_type": "code",
   "execution_count": 10,
   "metadata": {},
   "outputs": [],
   "source": [
    "x = np.matrix([[1],[3],[7],[2],[-1]])"
   ]
  },
  {
   "cell_type": "code",
   "execution_count": 11,
   "metadata": {},
   "outputs": [
    {
     "data": {
      "text/plain": [
       "(5, 1)"
      ]
     },
     "execution_count": 11,
     "metadata": {},
     "output_type": "execute_result"
    }
   ],
   "source": [
    "x.shape"
   ]
  },
  {
   "cell_type": "code",
   "execution_count": 12,
   "metadata": {},
   "outputs": [],
   "source": [
    "def gaussian_elimination3(a,_b):\n",
    "    A = np.matrix.copy(a).astype(np.float64)\n",
    "    b = np.matrix.copy(_b).astype(np.float64)\n",
    "    m = A.shape[0]\n",
    "    for k in range(0,m-1):\n",
    "        A,b = pivot_rows(A,b,k)\n",
    "        \n",
    "\n",
    "        for i in range(k+1,m):\n",
    "            \n",
    "            f = A[i,k]/A[k,k]\n",
    "            A[i,:] = A[i,:]-f*A[k,:]\n",
    "            b[i] = b[i] -f*b[k]\n",
    "    return A,b"
   ]
  },
  {
   "cell_type": "code",
   "execution_count": 13,
   "metadata": {},
   "outputs": [
    {
     "name": "stdout",
     "output_type": "stream",
     "text": [
      "[[3. 8. 1.]\n",
      " [1. 2. 1.]\n",
      " [0. 4. 1.]]\n",
      "[[ 3.          8.          1.        ]\n",
      " [ 0.          4.          1.        ]\n",
      " [ 0.         -0.66666667  0.66666667]]\n"
     ]
    }
   ],
   "source": [
    "U, b_ = gaussian_elimination3(A,b)"
   ]
  },
  {
   "cell_type": "code",
   "execution_count": 14,
   "metadata": {},
   "outputs": [
    {
     "data": {
      "text/plain": [
       "matrix([[3.        , 8.        , 1.        ],\n",
       "        [0.        , 4.        , 1.        ],\n",
       "        [0.        , 0.        , 0.83333333]])"
      ]
     },
     "execution_count": 14,
     "metadata": {},
     "output_type": "execute_result"
    }
   ],
   "source": [
    "U"
   ]
  },
  {
   "cell_type": "code",
   "execution_count": 15,
   "metadata": {},
   "outputs": [],
   "source": [
    "def backward_solve(U, b):\n",
    "    x = np.zeros(b.shape)\n",
    "    m = U.shape[0]\n",
    "    for i in range(m-1,-1,-1):\n",
    "        s = b[i]\n",
    "        print(\"row %d\"%i)\n",
    "        print(s)\n",
    "        for j in range(i+1,m):\n",
    "            s = s-U[i,j]*x[j]\n",
    "            print(s)\n",
    "        x[i] = s/U[i,i]\n",
    "        print(\"x[i]=%f\"%x[i])\n",
    "    return x"
   ]
  },
  {
   "cell_type": "code",
   "execution_count": 16,
   "metadata": {},
   "outputs": [
    {
     "name": "stdout",
     "output_type": "stream",
     "text": [
      "row 2\n",
      "[[-1.66666667]]\n",
      "x[i]=-2.000000\n",
      "row 1\n",
      "[[2.]]\n",
      "[[4.]]\n",
      "x[i]=1.000000\n",
      "row 0\n",
      "[[12.]]\n",
      "[[4.]]\n",
      "[[6.]]\n",
      "x[i]=2.000000\n"
     ]
    },
    {
     "data": {
      "text/plain": [
       "array([[ 2.],\n",
       "       [ 1.],\n",
       "       [-2.]])"
      ]
     },
     "execution_count": 16,
     "metadata": {},
     "output_type": "execute_result"
    }
   ],
   "source": [
    "backward_solve(U,b_)"
   ]
  },
  {
   "cell_type": "code",
   "execution_count": null,
   "metadata": {},
   "outputs": [],
   "source": [
    "p = np.matrix([[0,1,0],[1,0,0],[0,0,1]])"
   ]
  },
  {
   "cell_type": "code",
   "execution_count": null,
   "metadata": {},
   "outputs": [],
   "source": [
    "p*A"
   ]
  },
  {
   "cell_type": "code",
   "execution_count": null,
   "metadata": {},
   "outputs": [],
   "source": [
    "np.matrix(np.identity(3))"
   ]
  },
  {
   "cell_type": "code",
   "execution_count": null,
   "metadata": {},
   "outputs": [],
   "source": [
    "help(np.identity)"
   ]
  },
  {
   "cell_type": "code",
   "execution_count": null,
   "metadata": {},
   "outputs": [],
   "source": []
  }
 ],
 "metadata": {
  "kernelspec": {
   "display_name": "Python 3",
   "language": "python",
   "name": "python3"
  },
  "language_info": {
   "codemirror_mode": {
    "name": "ipython",
    "version": 3
   },
   "file_extension": ".py",
   "mimetype": "text/x-python",
   "name": "python",
   "nbconvert_exporter": "python",
   "pygments_lexer": "ipython3",
   "version": "3.6.5"
  }
 },
 "nbformat": 4,
 "nbformat_minor": 2
}
