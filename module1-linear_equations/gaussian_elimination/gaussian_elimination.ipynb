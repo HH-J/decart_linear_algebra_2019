{
 "cells": [
  {
   "cell_type": "markdown",
   "metadata": {},
   "source": [
    "# Gaussian Elimination\n",
    "\n",
    "\\begin{eqnarray}\n",
    "\\begin{array}{rcrcrc@{\\qquad}l}\n",
    "x & + & 2y & + & z = & 2 & (a)\\\\\n",
    "3x & + & 8y & + & z = & 12 & (b) \\\\\n",
    "   & & 4y & + & z = & 2 & (c)\n",
    "\\end{array}\n",
    "\\end{eqnarray}\n",
    "\n",
    "\\begin{equation}\n",
    "\\begin{bmatrix}\n",
    "\\begin{array}{rrr{\\qquad}1}\n",
    "1 & 2 & 1\\\\\n",
    "3 & 8 & 1\\\\\n",
    "0 & 4 & 1\n",
    "\\end{array}\n",
    "\\end{bmatrix}\n",
    "\\end{equation}\n",
    "\n",
    "## Algorithm (from http://www.math-cs.gordon.edu/courses/ma342/handouts/gauss.pdf)\n",
    "\n",
    "Following the pseudocode available at the above link, we are going to break our algorithm into three parts:\n",
    "\n",
    "1. Gaussian Elimination\n",
    "2. Forward Elimination\n",
    "3. Backward Solve\n",
    "\n",
    "### Gaussian Elimination\n",
    "\n",
    "The gist of this step is to transform our matrix to an upper triangular matrix by finding **pivots**, using the pivots to determine multiplicative factors\n",
    "\n",
    "![Gaussian Elimination Pseudocode](./gaussian_elimination.jpg)\n",
    "\n",
    "**Note:** this pseudocode assumes indexing starts at one. We will need to modify this for Python which starts at zero."
   ]
  },
  {
   "cell_type": "markdown",
   "metadata": {},
   "source": [
    "For the $k^{th}$ row we identify the $k^{th}$ column; this is the **pivot**. For each row $i; i > k$, we find the multiplier ($f_{ki}$) such that when we multiply row $k$ by"
   ]
  },
  {
   "cell_type": "code",
   "execution_count": 42,
   "metadata": {},
   "outputs": [],
   "source": [
    "import numpy as np\n",
    "\n",
    "def gaussian_elimination1(a):\n",
    "    A = np.matrix.copy(a)\n",
    "    m = A.shape[0]\n",
    "    for k in range(0,m):\n",
    "        for i in range(k+1,m):\n",
    "            f = A[i,k]/A[k,k]\n",
    "            A[i,:] = A[i,:]-m*A[k,:]\n",
    "    return A\n",
    "    "
   ]
  },
  {
   "cell_type": "code",
   "execution_count": 85,
   "metadata": {},
   "outputs": [
    {
     "data": {
      "text/plain": [
       "matrix([[1, 2, 1],\n",
       "        [3, 8, 1],\n",
       "        [0, 4, 1]])"
      ]
     },
     "execution_count": 85,
     "metadata": {},
     "output_type": "execute_result"
    }
   ],
   "source": [
    "A = np.matrix([[1,2,1],[3,8,1],[0,4,1]])\n",
    "A"
   ]
  },
  {
   "cell_type": "code",
   "execution_count": 20,
   "metadata": {},
   "outputs": [],
   "source": [
    "U = gaussian_elimination1(A)"
   ]
  },
  {
   "cell_type": "code",
   "execution_count": 21,
   "metadata": {},
   "outputs": [
    {
     "data": {
      "text/plain": [
       "numpy.matrixlib.defmatrix.matrix"
      ]
     },
     "execution_count": 21,
     "metadata": {},
     "output_type": "execute_result"
    }
   ],
   "source": [
    "type(U)"
   ]
  },
  {
   "cell_type": "code",
   "execution_count": 22,
   "metadata": {},
   "outputs": [
    {
     "data": {
      "text/plain": [
       "matrix([[ 1,  2,  1],\n",
       "        [ 0,  2, -2],\n",
       "        [-3, -8,  4]])"
      ]
     },
     "execution_count": 22,
     "metadata": {},
     "output_type": "execute_result"
    }
   ],
   "source": [
    "U"
   ]
  },
  {
   "cell_type": "markdown",
   "metadata": {},
   "source": [
    "![forward_elimination](./forward_elimination.png)"
   ]
  },
  {
   "cell_type": "code",
   "execution_count": 45,
   "metadata": {},
   "outputs": [],
   "source": [
    "def gaussian_elimination2(a,_b):\n",
    "    A = np.matrix.copy(a)\n",
    "    b = np.matrix.copy(_b)\n",
    "    m = A.shape[0]\n",
    "    for k in range(0,m-1):\n",
    "        for i in range(k+1,m):\n",
    "            f = A[i,k]/A[k,k]\n",
    "            A[i,:] = A[i,:]-f*A[k,:]\n",
    "            b[i] = b[i] -f*b[k]\n",
    "    return A,b"
   ]
  },
  {
   "cell_type": "code",
   "execution_count": 46,
   "metadata": {},
   "outputs": [],
   "source": [
    "b = np.matrix([2,12,2]).transpose()"
   ]
  },
  {
   "cell_type": "code",
   "execution_count": 47,
   "metadata": {},
   "outputs": [
    {
     "data": {
      "text/plain": [
       "matrix([[ 2],\n",
       "        [12],\n",
       "        [ 2]])"
      ]
     },
     "execution_count": 47,
     "metadata": {},
     "output_type": "execute_result"
    }
   ],
   "source": [
    "b"
   ]
  },
  {
   "cell_type": "code",
   "execution_count": 54,
   "metadata": {},
   "outputs": [
    {
     "data": {
      "text/plain": [
       "(matrix([[ 1,  2,  1],\n",
       "         [ 0,  2, -2],\n",
       "         [ 0,  0,  5]]), matrix([[  2],\n",
       "         [  6],\n",
       "         [-10]]))"
      ]
     },
     "execution_count": 54,
     "metadata": {},
     "output_type": "execute_result"
    }
   ],
   "source": [
    "U,b_"
   ]
  },
  {
   "cell_type": "code",
   "execution_count": 48,
   "metadata": {},
   "outputs": [],
   "source": [
    "U, b_ = gaussian_elimination2(A,b)"
   ]
  },
  {
   "cell_type": "code",
   "execution_count": 55,
   "metadata": {},
   "outputs": [
    {
     "data": {
      "text/plain": [
       "matrix([[  2],\n",
       "        [  6],\n",
       "        [-10]])"
      ]
     },
     "execution_count": 55,
     "metadata": {},
     "output_type": "execute_result"
    }
   ],
   "source": [
    "b_"
   ]
  },
  {
   "cell_type": "markdown",
   "metadata": {},
   "source": [
    "## Backward Substitution\n",
    "![backward substitution](./backward_solve.png)"
   ]
  },
  {
   "cell_type": "markdown",
   "metadata": {},
   "source": [
    "### Hints\n",
    "\n",
    "1. Think about the limits of the `range` function in Python"
   ]
  },
  {
   "cell_type": "code",
   "execution_count": 81,
   "metadata": {},
   "outputs": [],
   "source": [
    "def backward_solve(U, b):\n",
    "    x = np.zeros(b.shape)\n",
    "    m = U.shape[0]\n",
    "    for i in range(m-1,-1,-1):\n",
    "        s = b[i]\n",
    "        print(\"row %d\"%i)\n",
    "        print(s)\n",
    "        for j in range(i+1,m):\n",
    "            s = s-U[i,j]*x[j]\n",
    "            print(s)\n",
    "        x[i] = s/U[i,i]\n",
    "        print(\"x[i]=%f\"%x[i])\n",
    "    return x"
   ]
  },
  {
   "cell_type": "code",
   "execution_count": 82,
   "metadata": {},
   "outputs": [
    {
     "data": {
      "text/plain": [
       "matrix([[  2],\n",
       "        [  6],\n",
       "        [-10]])"
      ]
     },
     "execution_count": 82,
     "metadata": {},
     "output_type": "execute_result"
    }
   ],
   "source": [
    "b_"
   ]
  },
  {
   "cell_type": "code",
   "execution_count": 83,
   "metadata": {},
   "outputs": [
    {
     "name": "stdout",
     "output_type": "stream",
     "text": [
      "row 2\n",
      "[[-10]]\n",
      "x[i]=-2.000000\n",
      "row 1\n",
      "[[6]]\n",
      "[[2.]]\n",
      "x[i]=1.000000\n",
      "row 0\n",
      "[[2]]\n",
      "[[0.]]\n",
      "[[2.]]\n",
      "x[i]=2.000000\n"
     ]
    },
    {
     "data": {
      "text/plain": [
       "array([[ 2.],\n",
       "       [ 1.],\n",
       "       [-2.]])"
      ]
     },
     "execution_count": 83,
     "metadata": {},
     "output_type": "execute_result"
    }
   ],
   "source": [
    "backward_solve(U,b_)"
   ]
  },
  {
   "cell_type": "markdown",
   "metadata": {},
   "source": [
    "## How can we check our solution?"
   ]
  },
  {
   "cell_type": "code",
   "execution_count": 39,
   "metadata": {},
   "outputs": [],
   "source": [
    "import numpy.linalg as la"
   ]
  },
  {
   "cell_type": "code",
   "execution_count": 40,
   "metadata": {},
   "outputs": [
    {
     "data": {
      "text/plain": [
       "matrix([[ 2.],\n",
       "        [ 1.],\n",
       "        [-2.]])"
      ]
     },
     "execution_count": 40,
     "metadata": {},
     "output_type": "execute_result"
    }
   ],
   "source": [
    "la.solve(A,b)"
   ]
  },
  {
   "cell_type": "markdown",
   "metadata": {},
   "source": [
    "## Are there any assumptions we made in our solution?"
   ]
  },
  {
   "cell_type": "code",
   "execution_count": null,
   "metadata": {},
   "outputs": [],
   "source": []
  }
 ],
 "metadata": {
  "kernelspec": {
   "display_name": "Python [default]",
   "language": "python",
   "name": "python3"
  },
  "language_info": {
   "codemirror_mode": {
    "name": "ipython",
    "version": 3
   },
   "file_extension": ".py",
   "mimetype": "text/x-python",
   "name": "python",
   "nbconvert_exporter": "python",
   "pygments_lexer": "ipython3",
   "version": "3.6.4"
  }
 },
 "nbformat": 4,
 "nbformat_minor": 2
}
