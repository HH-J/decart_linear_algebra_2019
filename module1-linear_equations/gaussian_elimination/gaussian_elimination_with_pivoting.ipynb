{
 "cells": [
  {
   "cell_type": "code",
   "execution_count": 94,
   "metadata": {},
   "outputs": [],
   "source": [
    "import numpy as np\n",
    "import numpy.linalg as la"
   ]
  },
  {
   "cell_type": "markdown",
   "metadata": {},
   "source": [
    "## Key debugging points\n",
    "\n",
    "* How is the arthimetic for these arrays being computed?\n",
    "    * Array casting\n",
    "    * dtype, astype\n",
    "* Copying values/reference"
   ]
  },
  {
   "cell_type": "code",
   "execution_count": 38,
   "metadata": {},
   "outputs": [],
   "source": [
    "def find_pivot(c):\n",
    "    print(c.shape)\n",
    "    m = c.shape[0]\n",
    "    maxv = c[0]\n",
    "    argmax = 0\n",
    "    for i in range(1,m):\n",
    "        print(c[i])\n",
    "        if c[i] > maxv:\n",
    "            maxv = c[i]\n",
    "            argmax = i\n",
    "        print(\"i=%d\"%i)\n",
    "        print(\"argmax=%f\"%argmax)\n",
    "    return argmax"
   ]
  },
  {
   "cell_type": "code",
   "execution_count": 39,
   "metadata": {},
   "outputs": [],
   "source": [
    "def find_pivot2(c):\n",
    "    return np.argmax(c[])"
   ]
  },
  {
   "cell_type": "code",
   "execution_count": 40,
   "metadata": {},
   "outputs": [
    {
     "name": "stdout",
     "output_type": "stream",
     "text": [
      "(3, 3)\n",
      "[[3 8 1]]\n"
     ]
    },
    {
     "ename": "ValueError",
     "evalue": "The truth value of an array with more than one element is ambiguous. Use a.any() or a.all()",
     "output_type": "error",
     "traceback": [
      "\u001b[0;31m---------------------------------------------------------------------------\u001b[0m",
      "\u001b[0;31mValueError\u001b[0m                                Traceback (most recent call last)",
      "\u001b[0;32m<ipython-input-40-69facd6614af>\u001b[0m in \u001b[0;36m<module>\u001b[0;34m()\u001b[0m\n\u001b[0;32m----> 1\u001b[0;31m \u001b[0mfind_pivot\u001b[0m\u001b[0;34m(\u001b[0m\u001b[0mA\u001b[0m\u001b[0;34m)\u001b[0m\u001b[0;34m\u001b[0m\u001b[0m\n\u001b[0m",
      "\u001b[0;32m<ipython-input-38-54a136c2f8cc>\u001b[0m in \u001b[0;36mfind_pivot\u001b[0;34m(c)\u001b[0m\n\u001b[1;32m      6\u001b[0m     \u001b[0;32mfor\u001b[0m \u001b[0mi\u001b[0m \u001b[0;32min\u001b[0m \u001b[0mrange\u001b[0m\u001b[0;34m(\u001b[0m\u001b[0;36m1\u001b[0m\u001b[0;34m,\u001b[0m\u001b[0mm\u001b[0m\u001b[0;34m)\u001b[0m\u001b[0;34m:\u001b[0m\u001b[0;34m\u001b[0m\u001b[0m\n\u001b[1;32m      7\u001b[0m         \u001b[0mprint\u001b[0m\u001b[0;34m(\u001b[0m\u001b[0mc\u001b[0m\u001b[0;34m[\u001b[0m\u001b[0mi\u001b[0m\u001b[0;34m]\u001b[0m\u001b[0;34m)\u001b[0m\u001b[0;34m\u001b[0m\u001b[0m\n\u001b[0;32m----> 8\u001b[0;31m         \u001b[0;32mif\u001b[0m \u001b[0mc\u001b[0m\u001b[0;34m[\u001b[0m\u001b[0mi\u001b[0m\u001b[0;34m]\u001b[0m \u001b[0;34m>\u001b[0m \u001b[0mmaxv\u001b[0m\u001b[0;34m:\u001b[0m\u001b[0;34m\u001b[0m\u001b[0m\n\u001b[0m\u001b[1;32m      9\u001b[0m             \u001b[0mmaxv\u001b[0m \u001b[0;34m=\u001b[0m \u001b[0mc\u001b[0m\u001b[0;34m[\u001b[0m\u001b[0mi\u001b[0m\u001b[0;34m]\u001b[0m\u001b[0;34m\u001b[0m\u001b[0m\n\u001b[1;32m     10\u001b[0m             \u001b[0margmax\u001b[0m \u001b[0;34m=\u001b[0m \u001b[0mi\u001b[0m\u001b[0;34m\u001b[0m\u001b[0m\n",
      "\u001b[0;31mValueError\u001b[0m: The truth value of an array with more than one element is ambiguous. Use a.any() or a.all()"
     ]
    }
   ],
   "source": [
    "find_pivot(A)"
   ]
  },
  {
   "cell_type": "code",
   "execution_count": 42,
   "metadata": {},
   "outputs": [
    {
     "name": "stdout",
     "output_type": "stream",
     "text": [
      "> \u001b[0;32m<ipython-input-38-54a136c2f8cc>\u001b[0m(8)\u001b[0;36mfind_pivot\u001b[0;34m()\u001b[0m\n",
      "\u001b[0;32m      6 \u001b[0;31m    \u001b[0;32mfor\u001b[0m \u001b[0mi\u001b[0m \u001b[0;32min\u001b[0m \u001b[0mrange\u001b[0m\u001b[0;34m(\u001b[0m\u001b[0;36m1\u001b[0m\u001b[0;34m,\u001b[0m\u001b[0mm\u001b[0m\u001b[0;34m)\u001b[0m\u001b[0;34m:\u001b[0m\u001b[0;34m\u001b[0m\u001b[0m\n",
      "\u001b[0m\u001b[0;32m      7 \u001b[0;31m        \u001b[0mprint\u001b[0m\u001b[0;34m(\u001b[0m\u001b[0mc\u001b[0m\u001b[0;34m[\u001b[0m\u001b[0mi\u001b[0m\u001b[0;34m]\u001b[0m\u001b[0;34m)\u001b[0m\u001b[0;34m\u001b[0m\u001b[0m\n",
      "\u001b[0m\u001b[0;32m----> 8 \u001b[0;31m        \u001b[0;32mif\u001b[0m \u001b[0mc\u001b[0m\u001b[0;34m[\u001b[0m\u001b[0mi\u001b[0m\u001b[0;34m]\u001b[0m \u001b[0;34m>\u001b[0m \u001b[0mmaxv\u001b[0m\u001b[0;34m:\u001b[0m\u001b[0;34m\u001b[0m\u001b[0m\n",
      "\u001b[0m\u001b[0;32m      9 \u001b[0;31m            \u001b[0mmaxv\u001b[0m \u001b[0;34m=\u001b[0m \u001b[0mc\u001b[0m\u001b[0;34m[\u001b[0m\u001b[0mi\u001b[0m\u001b[0;34m]\u001b[0m\u001b[0;34m\u001b[0m\u001b[0m\n",
      "\u001b[0m\u001b[0;32m     10 \u001b[0;31m            \u001b[0margmax\u001b[0m \u001b[0;34m=\u001b[0m \u001b[0mi\u001b[0m\u001b[0;34m\u001b[0m\u001b[0m\n",
      "\u001b[0m\n",
      "ipdb> p c[i]\n",
      "matrix([[3, 8, 1]])\n",
      "ipdb> q\n"
     ]
    }
   ],
   "source": [
    "%debug"
   ]
  },
  {
   "cell_type": "code",
   "execution_count": 96,
   "metadata": {},
   "outputs": [
    {
     "data": {
      "text/plain": [
       "matrix([[1, 2, 1],\n",
       "        [3, 8, 1],\n",
       "        [0, 4, 1]])"
      ]
     },
     "execution_count": 96,
     "metadata": {},
     "output_type": "execute_result"
    }
   ],
   "source": [
    "A = np.matrix([[1,2,1],[3,8,1],[0,4,1]])\n",
    "A"
   ]
  },
  {
   "cell_type": "code",
   "execution_count": 97,
   "metadata": {},
   "outputs": [
    {
     "data": {
      "text/plain": [
       "matrix([[ 2],\n",
       "        [12],\n",
       "        [ 2]])"
      ]
     },
     "execution_count": 97,
     "metadata": {},
     "output_type": "execute_result"
    }
   ],
   "source": [
    "b = np.matrix([2,12,2]).transpose()\n",
    "b"
   ]
  },
  {
   "cell_type": "code",
   "execution_count": 98,
   "metadata": {},
   "outputs": [],
   "source": [
    "def swap_rows(a,i,j):\n",
    "    A = np.matrix.copy(a)\n",
    "    tmp = A[i,:].copy()\n",
    "    A[i,:] = A[j,:].copy()\n",
    "    A[j,:] = tmp\n",
    "    return A"
   ]
  },
  {
   "cell_type": "code",
   "execution_count": 99,
   "metadata": {},
   "outputs": [],
   "source": [
    "def pivot_rows(a,b,k):\n",
    "    # find pivot\n",
    "    print(\"pivot_rows\")\n",
    "    pivot_row = find_pivot(a[k:,k]) + k\n",
    "    print(\"exchange %d with %d\"%(k,pivot_row))\n",
    "    print(a)\n",
    "    A = swap_rows(a,k,pivot_row)\n",
    "    b = swap_rows(b,k,pivot_row)\n",
    "    print(A)\n",
    "    return A,b"
   ]
  },
  {
   "cell_type": "code",
   "execution_count": 100,
   "metadata": {},
   "outputs": [],
   "source": [
    "x = np.matrix([[1],[3],[7],[2],[-1]])"
   ]
  },
  {
   "cell_type": "code",
   "execution_count": 101,
   "metadata": {},
   "outputs": [
    {
     "data": {
      "text/plain": [
       "(5, 1)"
      ]
     },
     "execution_count": 101,
     "metadata": {},
     "output_type": "execute_result"
    }
   ],
   "source": [
    "x.shape"
   ]
  },
  {
   "cell_type": "code",
   "execution_count": 128,
   "metadata": {},
   "outputs": [],
   "source": [
    "def gaussian_elimination2(a,_b):\n",
    "    A = np.matrix.copy(a).astype(np.float64)\n",
    "    b = np.matrix.copy(_b).astype(np.float64)\n",
    "    print(\"dtype of A\",A.dtype)\n",
    "    m = A.shape[0]\n",
    "    for k in range(0,m-1):\n",
    "        print(\"processing row k=%d\"%k)\n",
    "        A,b = pivot_rows(A,b,k)\n",
    "        \n",
    "        print(\"pivoted A\")\n",
    "        print(A)\n",
    "        for i in range(k+1,m):\n",
    "            print(\"Pivot\",A[k,k])\n",
    "            \n",
    "            f = A[i,k]/A[k,k]\n",
    "            #print(1/0)\n",
    "            print(\"Factor\",f)\n",
    "            A[i,:] = A[i,:]-f*A[k,:]\n",
    "            print(\"modifing row %d\"%i)\n",
    "            print(A)\n",
    "            print(A.dtype)\n",
    "            b[i] = b[i] -f*b[k]\n",
    "        print(\"Modified A\")\n",
    "        print(A)\n",
    "        print(\"*\"*42)\n",
    "    return A,b"
   ]
  },
  {
   "cell_type": "code",
   "execution_count": 130,
   "metadata": {},
   "outputs": [
    {
     "name": "stdout",
     "output_type": "stream",
     "text": [
      "dtype of A float64\n",
      "processing row k=0\n",
      "pivot_rows\n",
      "(3, 1)\n",
      "[[3.]]\n",
      "i=1\n",
      "argmax=1.000000\n",
      "[[0.]]\n",
      "i=2\n",
      "argmax=1.000000\n",
      "exchange 0 with 1\n",
      "[[1. 2. 1.]\n",
      " [3. 8. 1.]\n",
      " [0. 4. 1.]]\n",
      "[[3. 8. 1.]\n",
      " [1. 2. 1.]\n",
      " [0. 4. 1.]]\n",
      "pivoted A\n",
      "[[3. 8. 1.]\n",
      " [1. 2. 1.]\n",
      " [0. 4. 1.]]\n",
      "Pivot 3.0\n",
      "Factor 0.3333333333333333\n",
      "modifing row 1\n",
      "[[ 3.          8.          1.        ]\n",
      " [ 0.         -0.66666667  0.66666667]\n",
      " [ 0.          4.          1.        ]]\n",
      "float64\n",
      "Pivot 3.0\n",
      "Factor 0.0\n",
      "modifing row 2\n",
      "[[ 3.          8.          1.        ]\n",
      " [ 0.         -0.66666667  0.66666667]\n",
      " [ 0.          4.          1.        ]]\n",
      "float64\n",
      "Modified A\n",
      "[[ 3.          8.          1.        ]\n",
      " [ 0.         -0.66666667  0.66666667]\n",
      " [ 0.          4.          1.        ]]\n",
      "******************************************\n",
      "processing row k=1\n",
      "pivot_rows\n",
      "(2, 1)\n",
      "[[4.]]\n",
      "i=1\n",
      "argmax=1.000000\n",
      "exchange 1 with 2\n",
      "[[ 3.          8.          1.        ]\n",
      " [ 0.         -0.66666667  0.66666667]\n",
      " [ 0.          4.          1.        ]]\n",
      "[[ 3.          8.          1.        ]\n",
      " [ 0.          4.          1.        ]\n",
      " [ 0.         -0.66666667  0.66666667]]\n",
      "pivoted A\n",
      "[[ 3.          8.          1.        ]\n",
      " [ 0.          4.          1.        ]\n",
      " [ 0.         -0.66666667  0.66666667]]\n",
      "Pivot 4.0\n",
      "Factor -0.16666666666666663\n",
      "modifing row 2\n",
      "[[3.         8.         1.        ]\n",
      " [0.         4.         1.        ]\n",
      " [0.         0.         0.83333333]]\n",
      "float64\n",
      "Modified A\n",
      "[[3.         8.         1.        ]\n",
      " [0.         4.         1.        ]\n",
      " [0.         0.         0.83333333]]\n",
      "******************************************\n"
     ]
    }
   ],
   "source": [
    "U, b_ = gaussian_elimination2(A,b)"
   ]
  },
  {
   "cell_type": "code",
   "execution_count": 131,
   "metadata": {},
   "outputs": [],
   "source": [
    "def backward_solve(U, b):\n",
    "    x = np.zeros(b.shape)\n",
    "    m = U.shape[0]\n",
    "    for i in range(m-1,-1,-1):\n",
    "        s = b[i]\n",
    "        print(\"row %d\"%i)\n",
    "        print(s)\n",
    "        for j in range(i+1,m):\n",
    "            s = s-U[i,j]*x[j]\n",
    "            print(s)\n",
    "        x[i] = s/U[i,i]\n",
    "        print(\"x[i]=%f\"%x[i])\n",
    "    return x"
   ]
  },
  {
   "cell_type": "code",
   "execution_count": 132,
   "metadata": {},
   "outputs": [
    {
     "name": "stdout",
     "output_type": "stream",
     "text": [
      "row 2\n",
      "[[-1.66666667]]\n",
      "x[i]=-2.000000\n",
      "row 1\n",
      "[[2.]]\n",
      "[[4.]]\n",
      "x[i]=1.000000\n",
      "row 0\n",
      "[[12.]]\n",
      "[[4.]]\n",
      "[[6.]]\n",
      "x[i]=2.000000\n"
     ]
    },
    {
     "data": {
      "text/plain": [
       "array([[ 2.],\n",
       "       [ 1.],\n",
       "       [-2.]])"
      ]
     },
     "execution_count": 132,
     "metadata": {},
     "output_type": "execute_result"
    }
   ],
   "source": [
    "backward_solve(U,b_)"
   ]
  },
  {
   "cell_type": "code",
   "execution_count": null,
   "metadata": {},
   "outputs": [],
   "source": [
    "A.astype(np.int64)"
   ]
  }
 ],
 "metadata": {
  "kernelspec": {
   "display_name": "Python 3",
   "language": "python",
   "name": "python3"
  },
  "language_info": {
   "codemirror_mode": {
    "name": "ipython",
    "version": 3
   },
   "file_extension": ".py",
   "mimetype": "text/x-python",
   "name": "python",
   "nbconvert_exporter": "python",
   "pygments_lexer": "ipython3",
   "version": "3.6.5"
  }
 },
 "nbformat": 4,
 "nbformat_minor": 2
}
