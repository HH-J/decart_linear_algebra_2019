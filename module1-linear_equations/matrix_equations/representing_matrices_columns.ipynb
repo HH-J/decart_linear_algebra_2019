{
 "cells": [
  {
   "cell_type": "markdown",
   "metadata": {},
   "source": [
    "# Matrices: Column View\n",
    "\n",
    "We cn also think of matrices as a collection of vectors\n",
    "\n",
    "\\begin{equation}\n",
    "\\begin{bmatrix}\n",
    "\\begin{array}{rr{\\qquad}1}\n",
    "\\pmb{c_1} &\n",
    "\\pmb{c_2} \n",
    "\\end{array}\n",
    "\\end{bmatrix}\n",
    "\\pmb{x} =\n",
    "\\pmb{b}\n",
    "\\end{equation}\n",
    "\n",
    "In this view, we can think of finding the vector $\\pmb{x}$ consisting of the scalars$x_1$ and $x_2$ such that the weighted addition of the two vectors (columns of the matrix) on the LHS equals the vector on the RHS:\n",
    "\n",
    "\\begin{equation}\n",
    "x_1\\begin{bmatrix}\n",
    "\\begin{array}{r{\\quad}1}\n",
    "2\\\\ 4\n",
    "\\end{array}\n",
    "\\end{bmatrix} \n",
    "+ x_2\n",
    "\\begin{bmatrix}\n",
    "\\begin{array}{r{\\quad}1}\n",
    "4\\\\ 11\n",
    "\\end{array}\n",
    "\\end{bmatrix}=\n",
    "\\begin{bmatrix}\n",
    "\\begin{array}{r{\\quad}1}\n",
    "2 \\\\ 1\n",
    "\\end{array}\n",
    "\\end{bmatrix}\n",
    "\\end{equation}"
   ]
  },
  {
   "cell_type": "code",
   "execution_count": 2,
   "metadata": {},
   "outputs": [],
   "source": [
    "%matplotlib inline"
   ]
  },
  {
   "cell_type": "code",
   "execution_count": 3,
   "metadata": {},
   "outputs": [],
   "source": [
    "from utils import *"
   ]
  },
  {
   "cell_type": "markdown",
   "metadata": {},
   "source": [
    "## Column View of Matrices\n",
    "\n",
    "We can think of this problem from a different perspective: from the perspective of the columns of $\\textbf{A}$. In this view, we can think of finding the scalars $x_1$ and $x_2$ such that the weighted addition of the two vectors (columns of the matrix) on the LHS equals the vector on the RHS:\n",
    "\n",
    "\\begin{equation}\n",
    "x_1\\begin{bmatrix}\n",
    "\\begin{array}{r{\\quad}1}\n",
    "2\\\\ 4\n",
    "\\end{array}\n",
    "\\end{bmatrix} \n",
    "+ x_2\n",
    "\\begin{bmatrix}\n",
    "\\begin{array}{r{\\quad}1}\n",
    "4\\\\ 11\n",
    "\\end{array}\n",
    "\\end{bmatrix}=\n",
    "\\begin{bmatrix}\n",
    "\\begin{array}{r{\\quad}1}\n",
    "2 \\\\ 1\n",
    "\\end{array}\n",
    "\\end{bmatrix}\n",
    "\\end{equation}\n",
    "\n",
    "From the previous notebook, we know that the solution to the systems of equations is $(x_1=3,x_2=-1)$. We can add vectors graphically by putting the tail of the second vector on the tip of the first vector. The first vector\n",
    "\n",
    "\\begin{equation}\n",
    "3\\begin{bmatrix}\n",
    "\\begin{array}{r{\\quad}1}\n",
    "2\\\\ 4\n",
    "\\end{array}\n",
    "\\end{bmatrix} =\n",
    "\\begin{bmatrix}\n",
    "\\begin{array}{r{\\quad}1}\n",
    "6\\\\ 12\n",
    "\\end{array}\n",
    "\\end{bmatrix}\n",
    "\\end{equation}\n",
    "\n",
    "is plotted in red and the second vector\n",
    "\n",
    "\\begin{equation}\n",
    "-1\\begin{bmatrix}\n",
    "\\begin{array}{r{\\quad}1}\n",
    "4\\\\ 11\n",
    "\\end{array}\n",
    "\\end{bmatrix} =\n",
    "\\begin{bmatrix}\n",
    "\\begin{array}{r{\\quad}1}\n",
    "-4\\\\ 11\n",
    "\\end{array}\n",
    "\\end{bmatrix}\n",
    "\\end{equation}\n",
    "is plotted in green."
   ]
  },
  {
   "cell_type": "code",
   "execution_count": 4,
   "metadata": {},
   "outputs": [
    {
     "data": {
      "image/png": "[encoded data removed]",
      "text/plain": [
       "<Figure size 432x288 with 1 Axes>"
      ]
     },
     "metadata": {},
     "output_type": "display_data"
    }
   ],
   "source": [
    "colors = ['r','g','y']\n",
    "plot_vectors(((0,0),(6,12),'r'),((6,12),(-4,-11),'g'))"
   ]
  },
  {
   "cell_type": "markdown",
   "metadata": {},
   "source": [
    "We see that the green vector ends at $(2,1)$ which is the vector on the RHS. This can be verified by explicitly plotting the RHS vector in blue."
   ]
  },
  {
   "cell_type": "code",
   "execution_count": 99,
   "metadata": {},
   "outputs": [
    {
     "data": {
      "image/png": "[encoded data removed]",
      "text/plain": [
       "<Figure size 432x288 with 1 Axes>"
      ]
     },
     "metadata": {},
     "output_type": "display_data"
    }
   ],
   "source": [
    "plot_vectors(((0,0),(6,12),'r'),((6,12),(-4,-11),'g'),((0,0),(2,1),'b'))"
   ]
  },
  {
   "cell_type": "code",
   "execution_count": 100,
   "metadata": {},
   "outputs": [
    {
     "data": {
      "text/plain": [
       "{x1: 3, x2: -1}"
      ]
     },
     "execution_count": 100,
     "metadata": {},
     "output_type": "execute_result"
    }
   ],
   "source": [
    "from sympy import Matrix, solve_linear_system\n",
    "from sympy import symbols\n",
    "x1,x2 = symbols(\"x1 x2\")\n",
    "system = Matrix(((2,4,2),(4,11,1)))\n",
    "solve_linear_system(system,x1,x2)"
   ]
  },
  {
   "cell_type": "code",
   "execution_count": 101,
   "metadata": {},
   "outputs": [
    {
     "data": {
      "text/plain": [
       "<module 'utils' from '/Users/brian/Code/UUDeCART/UUDeCART2018/decart_advanced_python_2018/day1-vectors/utils.py'>"
      ]
     },
     "execution_count": 101,
     "metadata": {},
     "output_type": "execute_result"
    }
   ],
   "source": [
    "import importlib\n",
    "import utils\n",
    "importlib.reload(utils)"
   ]
  },
  {
   "cell_type": "markdown",
   "metadata": {},
   "source": [
    "### Problem \n",
    "\n",
    "Representing a Matrix `M` as a list of columns, write a function that multiplies a vector `v` by a matrix `m`.\n",
    "\n",
    "Note that the Python representing of `m` will look like rows even though they are columns.\n",
    "\n",
    "```Python\n",
    "m = ((2,4),(4,11))\n",
    "```"
   ]
  },
  {
   "cell_type": "code",
   "execution_count": 8,
   "metadata": {},
   "outputs": [],
   "source": [
    "from myvectors import *"
   ]
  },
  {
   "cell_type": "code",
   "execution_count": 9,
   "metadata": {},
   "outputs": [],
   "source": [
    "def m_x_v(m,v):\n",
    "    newv = [0]*len(v)\n",
    "    for i in range(len(v)):\n",
    "        newv = v_plus_v(newv, alpha_x_v(v[i], m[i]))\n",
    "    return newv"
   ]
  },
  {
   "cell_type": "code",
   "execution_count": 10,
   "metadata": {},
   "outputs": [
    {
     "data": {
      "text/plain": [
       "(2, 1)"
      ]
     },
     "execution_count": 10,
     "metadata": {},
     "output_type": "execute_result"
    }
   ],
   "source": [
    "m_x_v(((2,4),(4,11)), (3,-1))"
   ]
  },
  {
   "cell_type": "markdown",
   "metadata": {},
   "source": [
    "## Matrix-Matrix Multiplication\n",
    "\n",
    "We can also think of matrix-matrix multiplication in a column view manner.\n",
    "\n",
    "\\begin{equation}\n",
    "\\pmb{A}_{m,n} \\pmb{B}_{n,p}=\\pmb{C}_{m,p}\n",
    "\\end{equation}\n",
    "\n",
    "$\\pmb{A}$ consists of $n$ columns with dimension $m$; \\pmb{B} consists of $p$ columns with dimension $n$; the resulting matrix $\\pmb{C}$ has $p$ columns of dimension $m$.\n",
    "\n",
    "Column $i$ in $\\pmb{C}$ is the result of multiplying the $i^{\\text{th}}$ vector in $\\pmb{B}$ by $\\pmb{A}$.\n",
    "\n",
    "\\begin{equation}\n",
    "    \\pmb{A}\n",
    "    \\begin{bmatrix}\n",
    "        \\begin{array}{rrrr{\\qquad}1}\n",
    "            \\pmb{b}_1 & \\pmb{b}_2 & \\cdots & \\pmb{b}_p\n",
    "        \\end{array}\n",
    "    \\end{bmatrix}\n",
    "=\n",
    "    \\begin{bmatrix}\n",
    "        \\begin{array}{rrrr{\\qquad}1}\n",
    "            (\\pmb{Ab}_1) & (\\pmb{Ab}_2) & \\cdots & (\\pmb{Ab}_p)\n",
    "        \\end{array}\n",
    "    \\end{bmatrix}\n",
    "\\end{equation}\n",
    " \n"
   ]
  },
  {
   "cell_type": "code",
   "execution_count": 11,
   "metadata": {},
   "outputs": [],
   "source": [
    "from IPython.display import YouTubeVideo"
   ]
  },
  {
   "cell_type": "code",
   "execution_count": 14,
   "metadata": {},
   "outputs": [
    {
     "data": {
      "image/jpeg": "[encoded data removed]",
      "text/html": [
       "\n",
       "        <iframe\n",
       "            width=\"400\"\n",
       "            height=\"300\"\n",
       "            src=\"https://www.youtube.com/embed/FX4C-JpTFgY?start=380&end=608\"\n",
       "            frameborder=\"0\"\n",
       "            allowfullscreen\n",
       "        ></iframe>\n",
       "        "
      ],
      "text/plain": [
       "<IPython.lib.display.YouTubeVideo at 0x11ddceeb8>"
      ]
     },
     "execution_count": 14,
     "metadata": {},
     "output_type": "execute_result"
    }
   ],
   "source": [
    "YouTubeVideo(\"FX4C-JpTFgY\", start=380, end=608)"
   ]
  },
  {
   "cell_type": "markdown",
   "metadata": {},
   "source": [
    "## Problem:\n",
    "#### Looking at a Matrix as a collection of vectors, write a function that computes matrix multiplication column-wise"
   ]
  },
  {
   "cell_type": "code",
   "execution_count": 15,
   "metadata": {},
   "outputs": [],
   "source": [
    "def m_x_m_c(A, B):\n",
    "    C = [m_x_v(A,b) for b in B]\n",
    "    return C"
   ]
  },
  {
   "cell_type": "code",
   "execution_count": 22,
   "metadata": {},
   "outputs": [],
   "source": [
    "A = [[11,-15],[-15,29]]"
   ]
  },
  {
   "cell_type": "code",
   "execution_count": 23,
   "metadata": {},
   "outputs": [
    {
     "data": {
      "text/plain": [
       "[(346, -600), (-600, 1066)]"
      ]
     },
     "execution_count": 23,
     "metadata": {},
     "output_type": "execute_result"
    }
   ],
   "source": [
    "m_x_m_c(A,A)"
   ]
  },
  {
   "cell_type": "markdown",
   "metadata": {},
   "source": [
    "## Does our Algorithm for a Transpose Need to be Any different for list of columns than list of rows?"
   ]
  },
  {
   "cell_type": "code",
   "execution_count": 24,
   "metadata": {},
   "outputs": [],
   "source": [
    "def transpose(a):\n",
    "    new_a = []\n",
    "    for n in range(len(a[0])):\n",
    "        new_r = []\n",
    "        for m in range(len(a)):\n",
    "            new_r.append(a[m][n])\n",
    "        new_a.append(new_r)\n",
    "    return new_a"
   ]
  },
  {
   "cell_type": "code",
   "execution_count": 25,
   "metadata": {},
   "outputs": [
    {
     "data": {
      "text/plain": [
       "[[11, -15], [-15, 29]]"
      ]
     },
     "execution_count": 25,
     "metadata": {},
     "output_type": "execute_result"
    }
   ],
   "source": [
    "transpose(A)"
   ]
  },
  {
   "cell_type": "code",
   "execution_count": 26,
   "metadata": {},
   "outputs": [
    {
     "data": {
      "text/plain": [
       "[[1, 1], [3, -4], [-2, -3]]"
      ]
     },
     "execution_count": 26,
     "metadata": {},
     "output_type": "execute_result"
    }
   ],
   "source": [
    "transpose(((1,3,-2),(1,-4,-3)))"
   ]
  },
  {
   "cell_type": "code",
   "execution_count": null,
   "metadata": {},
   "outputs": [],
   "source": []
  }
 ],
 "metadata": {
  "kernelspec": {
   "display_name": "Python 3",
   "language": "python",
   "name": "python3"
  },
  "language_info": {
   "codemirror_mode": {
    "name": "ipython",
    "version": 3
   },
   "file_extension": ".py",
   "mimetype": "text/x-python",
   "name": "python",
   "nbconvert_exporter": "python",
   "pygments_lexer": "ipython3",
   "version": "3.6.5"
  }
 },
 "nbformat": 4,
 "nbformat_minor": 2
}
